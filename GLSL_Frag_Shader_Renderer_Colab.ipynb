{
  "nbformat": 4,
  "nbformat_minor": 0,
  "metadata": {
    "colab": {
      "name": "GLSL Frag Shader Renderer Colab ",
      "provenance": [],
      "collapsed_sections": []
    },
    "kernelspec": {
      "name": "python3",
      "display_name": "Python 3"
    },
    "language_info": {
      "name": "python"
    },
    "accelerator": "GPU"
  },
  "cells": [
    {
      "cell_type": "markdown",
      "metadata": {
        "id": "PIXfji54t89U"
      },
      "source": [
        "# GLSL Frag Shader Renderer Colab\n",
        "\n",
        "Put together by [Shellworld](https://github.com/shellward). [(@shellworld1)](https://twitter.com/shellworld1)\n",
        "\n",
        "Largely taken from:\n",
        "https://colab.research.google.com/github/tensorflow/lucid/blob/master/notebooks/differentiable-parameterizations/appendix/colab_gl.ipynb\n",
        "\n",
        "But it wasn't working out of the box due to some configuration stuff covered [here](https://github.com/mcfletch/pyopengl/issues/27)\n",
        "\n",
        "I don't intend to claim this code as my own! I just cobbled this stuff together to make it easier for me to render frag shaders with a cloud GPU. \n",
        "\n"
      ]
    },
    {
      "cell_type": "code",
      "metadata": {
        "cellView": "form",
        "id": "YbV9PMiGscYS"
      },
      "source": [
        "#@title Connect google drive\n",
        "from google.colab import drive\n",
        "drive._mount('/content/drive')"
      ],
      "execution_count": null,
      "outputs": []
    },
    {
      "cell_type": "code",
      "metadata": {
        "cellView": "form",
        "id": "R-0VGeQjW34D"
      },
      "source": [
        "#@title Install required packages\n",
        "!pip install -q moviepy\n",
        "!pip uninstall tensorflow -y\n",
        "!pip install tensorflow==1.15\n",
        "!pip install tensorflow-gpu==1.15\n",
        "!pip install lucid"
      ],
      "execution_count": null,
      "outputs": []
    },
    {
      "cell_type": "code",
      "metadata": {
        "cellView": "form",
        "id": "u2_6r3xumMMv"
      },
      "source": [
        "#@title Imports\n",
        "import numpy as np\n",
        "import json\n",
        "import moviepy.editor as mvp\n",
        "from google.colab import files\n",
        "import lucid.misc.io.showing as show\n",
        "\n",
        "# Modify config to specify OpenGL in egl.py\n",
        "# https://github.com/mcfletch/pyopengl/issues/27\n",
        "# /usr/local/lib/python3.7/dist-packages/OpenGL/platform/egl.py\n",
        "a_file = open(\"/usr/local/lib/python2.7/dist-packages/OpenGL/platform/egl.py\", \"r\")\n",
        "list_of_lines = a_file.readlines()\n",
        "list_of_lines[36] = \"                    'OpenGL',\\n\"\n",
        "a_file = open(\"/usr/local/lib/python2.7/dist-packages/OpenGL/platform/egl.py\", \"w\")\n",
        "a_file.writelines(list_of_lines)\n",
        "a_file.close() "
      ],
      "execution_count": null,
      "outputs": []
    },
    {
      "cell_type": "code",
      "metadata": {
        "cellView": "form",
        "id": "BPtMsZIvXmpK"
      },
      "source": [
        "#@title Test that OpenGL Context is available\n",
        "WIDTH = 1080 #@param {type:\"integer\"}\n",
        "HEIGHT = 1080 #@param {type:\"integer\"}\n",
        "from lucid.misc.gl.glcontext import create_opengl_context\n",
        "# Now it's safe to import OpenGL and EGL functions\n",
        "import OpenGL.GL as gl\n",
        "# create_opengl_context() creates GL context that is attached to an\n",
        "# offscreen surface of specified size. Note that rendering to buffers\n",
        "# of different size and format is still possible with OpenGL Framebuffers.\n",
        "#\n",
        "# Users are expected to directly use EGL calls in case more advanced\n",
        "# context management is required.\n",
        "create_opengl_context((WIDTH, HEIGHT))\n",
        "# OpenGL context is available here.\n",
        "print(gl.glGetString(gl.GL_VERSION))\n",
        "print(gl.glGetString(gl.GL_VENDOR)) \n",
        "print ('Everything looks good!')\n",
        "#print(gl.glGetString(gl.GL_EXTENSIONS))\n"
      ],
      "execution_count": null,
      "outputs": []
    },
    {
      "cell_type": "code",
      "metadata": {
        "id": "S7NUgqC7oKbH"
      },
      "source": [
        "#@title Add your shader\n",
        "shader_code = \"\"\"\n",
        "float rand(vec2 co){\n",
        "    return fract(sin(dot(co.xy ,vec2(12.9898,78.233))) * 43758.5453);\n",
        "}\n",
        "\n",
        "float hexSDF(vec2 p, float size){\n",
        "    float h = size * 0.5;\n",
        "    float d = abs(p.x - h) + abs(p.y - h);\n",
        "    return d - h;\n",
        "}\n",
        "vec2 translate(vec2 inp, vec2 offset){\n",
        "    return inp + offset;\n",
        "}\n",
        "\n",
        "vec2 rectToPolar(vec2 inp){\n",
        "    return vec2(atan(inp.y, inp.x), length(inp));\n",
        "}\n",
        "\n",
        "vec2 polarToRect(vec2 inp){\n",
        "    return vec2(sin(inp.x) * inp.y, cos(inp.x) * inp.y);\n",
        "}\n",
        "\n",
        "vec2 rotate(vec2 inp, float angle){\n",
        "    return vec2(inp.x * cos(angle) - inp.y * sin(angle), inp.x * sin(angle) + inp.y * cos(angle));\n",
        "} \n",
        "\n",
        "float generateNoiseField(vec2 p){\n",
        "    vec2 q = vec2(p.x / iResolution.x, p.y / iResolution.y);\n",
        "    float n = 0.0;\n",
        "    n += 0.5 * rand(q + vec2(0.0, 0.0));\n",
        "    n += 0.25 * rand(q + vec2(0.0, 1.0));\n",
        "    n += 0.125 * rand(q + vec2(1.0, 1.0));\n",
        "    n += 0.0625 * rand(q + vec2(1.0, 0.0));\n",
        "    return n;\n",
        "}\n",
        "\n",
        "vec2 slerp(vec2 a, vec2 b, float t){\n",
        "    float omega = acos(dot(a, b));  \n",
        "    return sin((1.0 - t) * omega) * a + sin(t * omega) * b;\n",
        "}\n",
        "\n",
        "vec2 grid(vec2 p, float size){\n",
        "    vec2 q = vec2(floor(p.x / size), floor(p.y / size));\n",
        "    return q * size;\n",
        "}\n",
        "\n",
        "float rect(vec2 p, vec2 size){\n",
        "    vec2 q = grid(p, size.x);\n",
        "    vec2 r = vec2(p.x - q.x, p.y - q.y);\n",
        "    float d = min(min(abs(r.x), abs(r.y)), size.y - abs(r.y));\n",
        "    return d;\n",
        "}\n",
        "\n",
        "float circle(vec2 p, float size){\n",
        "    return length(p) - size;\n",
        "}\n",
        "float fill(vec2 p, float size){\n",
        "    return max(abs(p.x) - size, abs(p.y) - size);\n",
        "}\n",
        "void mainImage(){\n",
        "vec2 pixelSize = vec2(1.0/iResolution.x, 1.0/iResolution.y);\n",
        "vec2 uv = gl_FragCoord.xy / iResolution.xy;\n",
        "vec2 p = uv * 2.0 - 1.0;\n",
        "vec2 center = vec2(0.5, 0.5);\n",
        "vec3 background = vec3(0.0, 0.0, 0.0);\n",
        "p-=rotate(sin(p)*cos(center)*vec2(cos(iTime)/5.,sin(iTime)/5.), sin(iTime)*.91);\n",
        "p*=translate(p, vec2(-.0, 0.0));\n",
        "p-=translate(p, vec2(cos(iTime/89.0), sin(iTime/9.0)))*.3;\n",
        "p+=translate(p, vec2(0.0075, 0.005));\n",
        "p += 1.-sin(p)*fract(grid(p, 2.4));\n",
        "p+=rectToPolar(p/center)*slerp(vec2(1.0, .0), vec2(0.0, 1.0), sin(iTime/8.0));\n",
        "p+= fract(grid(p*8., 1.0));\n",
        "p+=mix(p,grid(fract(p),3.),sin(iTime/8.0));\n",
        "for (int i=0; i<2; i++){ \n",
        "    p+=rectToPolar(rotate(p,iTime*.05) * 00.5);\n",
        "    p=p+float(i)+sin(p/center);\n",
        "    p=polarToRect(p-sin(iTime*.01));\n",
        "    p=translate(p,vec2(0.5,0.5));\n",
        "    p=rotate(p, iTime*.01*float(i));\n",
        "    background+= rect(p*float(i), vec2(.01, 1.)) * 0.94;\n",
        "    background-= circle(p, .1) * 0.04;//*generateNoiseField(p*float(i));\n",
        "    background-= vec3(p.x, sin(p-center).y*9., p.x/p.y*.09);\n",
        "    p=rotate(p, iTime*.001);\n",
        "    background+= circle(p, .9);//*generateNoiseField(p*float(i));\n",
        "}\n",
        "background-=normalize(background)*iTime*generateNoiseField(uv);\n",
        "background=smoothstep(background, vec3(p.x, p.y, p.x/p.y), vec3(center.x,center.y,center.x/center.y)*12. );\n",
        "float hex = hexSDF(p, .9);\n",
        "float time = iTime;\n",
        "uv += rand(uv) * 0.1/vec2(1.0, 1.0);\n",
        "vec3 color = .88-background;\n",
        "  color /= vec3(1./hex*sin(time)/rand(uv*4.), 1./hex*cos(time), hex*rand(uv));\n",
        "    color.rb += slerp(rectToPolar(uv-p), polarToRect(uv-p), sin(time));\n",
        "    color.b -= rand(uv)/mod(uv.g,3.);\n",
        "    color.g -= sin(uv.g+time); \n",
        "    color += pow(sin(uv.g), 7.);\n",
        "    color = normalize(color/sin(time));\n",
        "    color/=normalize(color*color*color);\n",
        "    color+=normalize((color*color*color));\n",
        "color = smoothstep(color, vec3(p.x, p.y, p.x*p.y), vec3(center.x,center.y,center.x/center.y)*0.003 );\n",
        "color -= vec3(0.0549, 0.4863, 0.0)/color/.900;\n",
        "gl_FragColor=vec4(color,1.0);\n",
        "}\n",
        "\"\"\""
      ],
      "execution_count": 18,
      "outputs": []
    },
    {
      "cell_type": "code",
      "metadata": {
        "cellView": "form",
        "id": "zudM8Nv4lX8T"
      },
      "source": [
        "#@title Test that shader works\n",
        "from OpenGL.GL import shaders\n",
        "\n",
        "vertexPositions = np.float32([[-1, -1], [1, -1], [-1, 1], [1, 1]])\n",
        "VERTEX_SHADER = shaders.compileShader(\"\"\"\n",
        "#version 330\n",
        "layout(location = 0) in vec4 position;\n",
        "out vec2 UV;\n",
        "void main()\n",
        "{\n",
        "  UV = position.xy*0.5+0.5;\n",
        "  gl_Position = position;\n",
        "}\n",
        "\"\"\", gl.GL_VERTEX_SHADER)\n",
        "\n",
        "FRAGMENT_SHADER = shaders.compileShader(\"\"\"\n",
        "#version 330\n",
        "out vec4 outputColor;\n",
        "in vec2 UV;\n",
        "\n",
        "uniform sampler2D iChannel0;\n",
        "uniform vec3 iResolution;\n",
        "vec4 iMouse = vec4(0);\n",
        "uniform float iTime = 0.0;\n",
        "\"\"\" + shader_code + \"\"\"\n",
        "void main()\n",
        "{\n",
        "    mainImage();\n",
        "}\n",
        "\n",
        "\"\"\", gl.GL_FRAGMENT_SHADER)\n",
        "\n",
        "shader = shaders.compileProgram(VERTEX_SHADER, FRAGMENT_SHADER)\n",
        "time_loc = gl.glGetUniformLocation(shader, 'iTime')\n",
        "res_loc = gl.glGetUniformLocation(shader, 'iResolution')\n",
        "\n",
        "def render_frame(time):\n",
        "  gl.glClear(gl.GL_COLOR_BUFFER_BIT)\n",
        "  with shader:\n",
        "    gl.glUniform1f(time_loc, time)\n",
        "    gl.glUniform3f(res_loc, WIDTH, HEIGHT, 1.0)\n",
        "    \n",
        "    gl.glEnableVertexAttribArray(0);\n",
        "    gl.glVertexAttribPointer(0, 2, gl.GL_FLOAT, False, 0, vertexPositions)\n",
        "    gl.glDrawArrays(gl.GL_TRIANGLE_STRIP, 0, 4)\n",
        "  img_buf = gl.glReadPixels(0, 0, WIDTH, HEIGHT, gl.GL_RGB, gl.GL_UNSIGNED_BYTE)\n",
        "  img = np.frombuffer(img_buf, np.uint8).reshape(HEIGHT, WIDTH, 3)[::-1]\n",
        "  return img\n",
        "show.image(render_frame(10.0)/255.0, format='jpeg')"
      ],
      "execution_count": null,
      "outputs": []
    },
    {
      "cell_type": "code",
      "metadata": {
        "cellView": "form",
        "id": "fJIMtOlboSGX"
      },
      "source": [
        "#@title Render Video\n",
        "duration = 60.0 #@param {type:\"number\"}\n",
        "fps = 60 #@param {type:\"integer\"}\n",
        "clip = mvp.VideoClip(render_frame, duration=duration)\n",
        "clip.write_videofile('out.mp4', fps=fps)\n",
        "files.download('out.mp4')"
      ],
      "execution_count": null,
      "outputs": []
    },
    {
      "cell_type": "markdown",
      "metadata": {
        "id": "YkbyOgfTwNBB"
      },
      "source": [
        "# Save it to google drive\n",
        "\n",
        "I haven't done any fancy file management here- it just attempts to make a directory at \n",
        ">/content/drive/MyDrive/GLSLCloudRenderer/ \n",
        "\n",
        "and then saves the file as **out.mp4**. This will be overwritten if you save another shader."
      ]
    },
    {
      "cell_type": "code",
      "metadata": {
        "cellView": "form",
        "id": "P2T-U4WssGlA"
      },
      "source": [
        "#@title Copy to Google Drive\n",
        "!mkdir /content/drive/MyDrive/GLSLCloudRenderer\n",
        "!cp out.mp4 /content/drive/MyDrive/GLSLCloudRenderer/"
      ],
      "execution_count": 24,
      "outputs": []
    }
  ]
}